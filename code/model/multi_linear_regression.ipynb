{
 "cells": [
  {
   "cell_type": "code",
   "execution_count": 57,
   "metadata": {},
   "outputs": [],
   "source": [
    "import pandas as pd\n",
    "import numpy as np\n",
    "import matplotlib.pyplot as plt"
   ]
  },
  {
   "cell_type": "code",
   "execution_count": 37,
   "metadata": {},
   "outputs": [
    {
     "data": {
      "text/html": [
       "<div>\n",
       "<style scoped>\n",
       "    .dataframe tbody tr th:only-of-type {\n",
       "        vertical-align: middle;\n",
       "    }\n",
       "\n",
       "    .dataframe tbody tr th {\n",
       "        vertical-align: top;\n",
       "    }\n",
       "\n",
       "    .dataframe thead th {\n",
       "        text-align: right;\n",
       "    }\n",
       "</style>\n",
       "<table border=\"1\" class=\"dataframe\">\n",
       "  <thead>\n",
       "    <tr style=\"text-align: right;\">\n",
       "      <th></th>\n",
       "      <th>floor_area_sqm</th>\n",
       "      <th>lease_commence_date</th>\n",
       "      <th>remaining_lease</th>\n",
       "      <th>lat</th>\n",
       "      <th>long</th>\n",
       "      <th>distanceWithMrt</th>\n",
       "      <th>distanceWithRaffles</th>\n",
       "      <th>distanceWithGdPri</th>\n",
       "      <th>month</th>\n",
       "      <th>flat_type</th>\n",
       "      <th>storey_range</th>\n",
       "      <th>resale_price</th>\n",
       "      <th>resale_pricePersqm</th>\n",
       "      <th>model_Apartment</th>\n",
       "      <th>model_Maisonette</th>\n",
       "      <th>model_Model A</th>\n",
       "      <th>model_New Generation</th>\n",
       "      <th>model_Special</th>\n",
       "      <th>model_Standard</th>\n",
       "    </tr>\n",
       "  </thead>\n",
       "  <tbody>\n",
       "    <tr>\n",
       "      <th>0</th>\n",
       "      <td>-2.201704</td>\n",
       "      <td>-1.263416</td>\n",
       "      <td>-1.066514</td>\n",
       "      <td>-0.055</td>\n",
       "      <td>0.158348</td>\n",
       "      <td>-0.83076</td>\n",
       "      <td>-0.765374</td>\n",
       "      <td>0.713007</td>\n",
       "      <td>2018-01</td>\n",
       "      <td>0</td>\n",
       "      <td>3</td>\n",
       "      <td>250000.0</td>\n",
       "      <td>5681.818182</td>\n",
       "      <td>0</td>\n",
       "      <td>0</td>\n",
       "      <td>0</td>\n",
       "      <td>0</td>\n",
       "      <td>0</td>\n",
       "      <td>1</td>\n",
       "    </tr>\n",
       "  </tbody>\n",
       "</table>\n",
       "</div>"
      ],
      "text/plain": [
       "   floor_area_sqm  lease_commence_date  remaining_lease    lat      long  \\\n",
       "0       -2.201704            -1.263416        -1.066514 -0.055  0.158348   \n",
       "\n",
       "   distanceWithMrt  distanceWithRaffles  distanceWithGdPri    month  \\\n",
       "0         -0.83076            -0.765374           0.713007  2018-01   \n",
       "\n",
       "   flat_type  storey_range  resale_price  resale_pricePersqm  model_Apartment  \\\n",
       "0          0             3      250000.0         5681.818182                0   \n",
       "\n",
       "   model_Maisonette  model_Model A  model_New Generation  model_Special  \\\n",
       "0                 0              0                     0              0   \n",
       "\n",
       "   model_Standard  \n",
       "0               1  "
      ]
     },
     "execution_count": 37,
     "metadata": {},
     "output_type": "execute_result"
    }
   ],
   "source": [
    "df = pd.read_csv('E:\\singapore\\data\\preprocessed.csv')\n",
    "df.head(1)"
   ]
  },
  {
   "cell_type": "code",
   "execution_count": 73,
   "metadata": {},
   "outputs": [
    {
     "data": {
      "text/plain": [
       "flat_type\n",
       "2                   23629\n",
       "3                   14304\n",
       "1                   13820\n",
       "4                    4590\n",
       "0                     984\n",
       "MULTI-GENERATION       31\n",
       "Name: count, dtype: int64"
      ]
     },
     "execution_count": 73,
     "metadata": {},
     "output_type": "execute_result"
    }
   ],
   "source": [
    "df['flat_type'].value_counts()"
   ]
  },
  {
   "cell_type": "code",
   "execution_count": 38,
   "metadata": {},
   "outputs": [],
   "source": [
    "df = df.drop(['resale_pricePersqm'], axis=1)"
   ]
  },
  {
   "cell_type": "code",
   "execution_count": 29,
   "metadata": {},
   "outputs": [
    {
     "data": {
      "text/html": [
       "<div>\n",
       "<style scoped>\n",
       "    .dataframe tbody tr th:only-of-type {\n",
       "        vertical-align: middle;\n",
       "    }\n",
       "\n",
       "    .dataframe tbody tr th {\n",
       "        vertical-align: top;\n",
       "    }\n",
       "\n",
       "    .dataframe thead th {\n",
       "        text-align: right;\n",
       "    }\n",
       "</style>\n",
       "<table border=\"1\" class=\"dataframe\">\n",
       "  <thead>\n",
       "    <tr style=\"text-align: right;\">\n",
       "      <th></th>\n",
       "      <th>floor_area_sqm</th>\n",
       "      <th>lease_commence_date</th>\n",
       "      <th>remaining_lease</th>\n",
       "      <th>lat</th>\n",
       "      <th>long</th>\n",
       "      <th>distanceWithMrt</th>\n",
       "      <th>distanceWithRaffles</th>\n",
       "      <th>distanceWithGdPri</th>\n",
       "      <th>month</th>\n",
       "      <th>flat_type</th>\n",
       "      <th>storey_range</th>\n",
       "      <th>resale_price</th>\n",
       "      <th>model_Apartment</th>\n",
       "      <th>model_Maisonette</th>\n",
       "      <th>model_Model A</th>\n",
       "      <th>model_Multi Generation</th>\n",
       "      <th>model_New Generation</th>\n",
       "      <th>model_Special</th>\n",
       "      <th>model_Standard</th>\n",
       "    </tr>\n",
       "  </thead>\n",
       "  <tbody>\n",
       "    <tr>\n",
       "      <th>0</th>\n",
       "      <td>-2.199107</td>\n",
       "      <td>-1.263338</td>\n",
       "      <td>-1.066569</td>\n",
       "      <td>-0.055318</td>\n",
       "      <td>0.158116</td>\n",
       "      <td>-0.830713</td>\n",
       "      <td>-0.765637</td>\n",
       "      <td>0.713495</td>\n",
       "      <td>2018-01</td>\n",
       "      <td>0</td>\n",
       "      <td>3</td>\n",
       "      <td>250000.0</td>\n",
       "      <td>0</td>\n",
       "      <td>0</td>\n",
       "      <td>0</td>\n",
       "      <td>0</td>\n",
       "      <td>0</td>\n",
       "      <td>0</td>\n",
       "      <td>1</td>\n",
       "    </tr>\n",
       "    <tr>\n",
       "      <th>1</th>\n",
       "      <td>-1.255365</td>\n",
       "      <td>-1.263338</td>\n",
       "      <td>-1.127488</td>\n",
       "      <td>0.034538</td>\n",
       "      <td>-0.015409</td>\n",
       "      <td>1.177016</td>\n",
       "      <td>-0.641031</td>\n",
       "      <td>-0.653380</td>\n",
       "      <td>2018-01</td>\n",
       "      <td>1</td>\n",
       "      <td>0</td>\n",
       "      <td>240000.0</td>\n",
       "      <td>0</td>\n",
       "      <td>0</td>\n",
       "      <td>0</td>\n",
       "      <td>0</td>\n",
       "      <td>1</td>\n",
       "      <td>0</td>\n",
       "      <td>0</td>\n",
       "    </tr>\n",
       "    <tr>\n",
       "      <th>2</th>\n",
       "      <td>-1.214332</td>\n",
       "      <td>-1.033895</td>\n",
       "      <td>-0.978576</td>\n",
       "      <td>0.190363</td>\n",
       "      <td>0.045197</td>\n",
       "      <td>-0.334659</td>\n",
       "      <td>-0.487639</td>\n",
       "      <td>-0.124021</td>\n",
       "      <td>2018-01</td>\n",
       "      <td>1</td>\n",
       "      <td>0</td>\n",
       "      <td>240000.0</td>\n",
       "      <td>0</td>\n",
       "      <td>0</td>\n",
       "      <td>0</td>\n",
       "      <td>0</td>\n",
       "      <td>1</td>\n",
       "      <td>0</td>\n",
       "      <td>0</td>\n",
       "    </tr>\n",
       "  </tbody>\n",
       "</table>\n",
       "</div>"
      ],
      "text/plain": [
       "   floor_area_sqm  lease_commence_date  remaining_lease       lat      long  \\\n",
       "0       -2.199107            -1.263338        -1.066569 -0.055318  0.158116   \n",
       "1       -1.255365            -1.263338        -1.127488  0.034538 -0.015409   \n",
       "2       -1.214332            -1.033895        -0.978576  0.190363  0.045197   \n",
       "\n",
       "   distanceWithMrt  distanceWithRaffles  distanceWithGdPri    month flat_type  \\\n",
       "0        -0.830713            -0.765637           0.713495  2018-01         0   \n",
       "1         1.177016            -0.641031          -0.653380  2018-01         1   \n",
       "2        -0.334659            -0.487639          -0.124021  2018-01         1   \n",
       "\n",
       "   storey_range  resale_price  model_Apartment  model_Maisonette  \\\n",
       "0             3      250000.0                0                 0   \n",
       "1             0      240000.0                0                 0   \n",
       "2             0      240000.0                0                 0   \n",
       "\n",
       "   model_Model A  model_Multi Generation  model_New Generation  model_Special  \\\n",
       "0              0                       0                     0              0   \n",
       "1              0                       0                     1              0   \n",
       "2              0                       0                     1              0   \n",
       "\n",
       "   model_Standard  \n",
       "0               1  \n",
       "1               0  \n",
       "2               0  "
      ]
     },
     "execution_count": 29,
     "metadata": {},
     "output_type": "execute_result"
    }
   ],
   "source": [
    "df.head(3)"
   ]
  },
  {
   "cell_type": "code",
   "execution_count": 39,
   "metadata": {},
   "outputs": [],
   "source": [
    "df['resale_price'] = df.pop('resale_price')"
   ]
  },
  {
   "cell_type": "code",
   "execution_count": 137,
   "metadata": {},
   "outputs": [
    {
     "data": {
      "text/html": [
       "<div>\n",
       "<style scoped>\n",
       "    .dataframe tbody tr th:only-of-type {\n",
       "        vertical-align: middle;\n",
       "    }\n",
       "\n",
       "    .dataframe tbody tr th {\n",
       "        vertical-align: top;\n",
       "    }\n",
       "\n",
       "    .dataframe thead th {\n",
       "        text-align: right;\n",
       "    }\n",
       "</style>\n",
       "<table border=\"1\" class=\"dataframe\">\n",
       "  <thead>\n",
       "    <tr style=\"text-align: right;\">\n",
       "      <th></th>\n",
       "      <th>month</th>\n",
       "      <th>flat_type</th>\n",
       "      <th>storey_range</th>\n",
       "      <th>floor_area_sqm</th>\n",
       "      <th>lease_commence_date</th>\n",
       "      <th>remaining_lease</th>\n",
       "      <th>lat</th>\n",
       "      <th>long</th>\n",
       "      <th>distanceWithMrt</th>\n",
       "      <th>distanceWithRaffles</th>\n",
       "      <th>distanceWithGdPri</th>\n",
       "      <th>model_Apartment</th>\n",
       "      <th>model_Maisonette</th>\n",
       "      <th>model_Model A</th>\n",
       "      <th>model_New Generation</th>\n",
       "      <th>model_Special</th>\n",
       "      <th>model_Standard</th>\n",
       "      <th>resale_price</th>\n",
       "    </tr>\n",
       "  </thead>\n",
       "  <tbody>\n",
       "    <tr>\n",
       "      <th>0</th>\n",
       "      <td>2018-01</td>\n",
       "      <td>0</td>\n",
       "      <td>3</td>\n",
       "      <td>44.0</td>\n",
       "      <td>1978</td>\n",
       "      <td>61.333333</td>\n",
       "      <td>1.366227</td>\n",
       "      <td>103.850086</td>\n",
       "      <td>416.686149</td>\n",
       "      <td>9162.186778</td>\n",
       "      <td>1396.42021</td>\n",
       "      <td>0</td>\n",
       "      <td>0</td>\n",
       "      <td>0</td>\n",
       "      <td>0</td>\n",
       "      <td>0</td>\n",
       "      <td>1</td>\n",
       "      <td>250000.0</td>\n",
       "    </tr>\n",
       "  </tbody>\n",
       "</table>\n",
       "</div>"
      ],
      "text/plain": [
       "     month  flat_type  storey_range  floor_area_sqm  lease_commence_date  \\\n",
       "0  2018-01          0             3            44.0                 1978   \n",
       "\n",
       "   remaining_lease       lat        long  distanceWithMrt  \\\n",
       "0        61.333333  1.366227  103.850086       416.686149   \n",
       "\n",
       "   distanceWithRaffles  distanceWithGdPri  model_Apartment  model_Maisonette  \\\n",
       "0          9162.186778         1396.42021                0                 0   \n",
       "\n",
       "   model_Model A  model_New Generation  model_Special  model_Standard  \\\n",
       "0              0                     0              0               1   \n",
       "\n",
       "   resale_price  \n",
       "0      250000.0  "
      ]
     },
     "execution_count": 137,
     "metadata": {},
     "output_type": "execute_result"
    }
   ],
   "source": [
    "df.head(1)"
   ]
  },
  {
   "cell_type": "code",
   "execution_count": 138,
   "metadata": {},
   "outputs": [
    {
     "name": "stdout",
     "output_type": "stream",
     "text": [
      "<class 'pandas.core.frame.DataFrame'>\n",
      "RangeIndex: 57327 entries, 0 to 57326\n",
      "Data columns (total 18 columns):\n",
      " #   Column                Non-Null Count  Dtype  \n",
      "---  ------                --------------  -----  \n",
      " 0   month                 57327 non-null  object \n",
      " 1   flat_type             57327 non-null  int64  \n",
      " 2   storey_range          57327 non-null  int64  \n",
      " 3   floor_area_sqm        57327 non-null  float64\n",
      " 4   lease_commence_date   57327 non-null  int64  \n",
      " 5   remaining_lease       57327 non-null  float64\n",
      " 6   lat                   57327 non-null  float64\n",
      " 7   long                  57327 non-null  float64\n",
      " 8   distanceWithMrt       57327 non-null  float64\n",
      " 9   distanceWithRaffles   57327 non-null  float64\n",
      " 10  distanceWithGdPri     57327 non-null  float64\n",
      " 11  model_Apartment       57327 non-null  int64  \n",
      " 12  model_Maisonette      57327 non-null  int64  \n",
      " 13  model_Model A         57327 non-null  int64  \n",
      " 14  model_New Generation  57327 non-null  int64  \n",
      " 15  model_Special         57327 non-null  int64  \n",
      " 16  model_Standard        57327 non-null  int64  \n",
      " 17  resale_price          57327 non-null  float64\n",
      "dtypes: float64(8), int64(9), object(1)\n",
      "memory usage: 7.9+ MB\n"
     ]
    }
   ],
   "source": [
    "df.info()"
   ]
  },
  {
   "cell_type": "code",
   "execution_count": 130,
   "metadata": {},
   "outputs": [
    {
     "data": {
      "text/html": [
       "<div>\n",
       "<style scoped>\n",
       "    .dataframe tbody tr th:only-of-type {\n",
       "        vertical-align: middle;\n",
       "    }\n",
       "\n",
       "    .dataframe tbody tr th {\n",
       "        vertical-align: top;\n",
       "    }\n",
       "\n",
       "    .dataframe thead th {\n",
       "        text-align: right;\n",
       "    }\n",
       "</style>\n",
       "<table border=\"1\" class=\"dataframe\">\n",
       "  <thead>\n",
       "    <tr style=\"text-align: right;\">\n",
       "      <th></th>\n",
       "      <th>month</th>\n",
       "      <th>flat_type</th>\n",
       "      <th>storey_range</th>\n",
       "      <th>floor_area_sqm</th>\n",
       "      <th>lease_commence_date</th>\n",
       "      <th>remaining_lease</th>\n",
       "      <th>lat</th>\n",
       "      <th>long</th>\n",
       "      <th>distanceWithMrt</th>\n",
       "      <th>distanceWithRaffles</th>\n",
       "      <th>distanceWithGdPri</th>\n",
       "      <th>model_Apartment</th>\n",
       "      <th>model_Maisonette</th>\n",
       "      <th>model_Model A</th>\n",
       "      <th>model_New Generation</th>\n",
       "      <th>model_Special</th>\n",
       "      <th>model_Standard</th>\n",
       "      <th>resale_price</th>\n",
       "    </tr>\n",
       "  </thead>\n",
       "  <tbody>\n",
       "    <tr>\n",
       "      <th>0</th>\n",
       "      <td>2018-01</td>\n",
       "      <td>0</td>\n",
       "      <td>3</td>\n",
       "      <td>44.0</td>\n",
       "      <td>1978</td>\n",
       "      <td>61.333333</td>\n",
       "      <td>1.366227</td>\n",
       "      <td>103.850086</td>\n",
       "      <td>416.686149</td>\n",
       "      <td>9162.186778</td>\n",
       "      <td>1396.420210</td>\n",
       "      <td>0</td>\n",
       "      <td>0</td>\n",
       "      <td>0</td>\n",
       "      <td>0</td>\n",
       "      <td>0</td>\n",
       "      <td>1</td>\n",
       "      <td>250000.0</td>\n",
       "    </tr>\n",
       "    <tr>\n",
       "      <th>1</th>\n",
       "      <td>2018-01</td>\n",
       "      <td>1</td>\n",
       "      <td>0</td>\n",
       "      <td>67.0</td>\n",
       "      <td>1978</td>\n",
       "      <td>60.583333</td>\n",
       "      <td>1.370097</td>\n",
       "      <td>103.837688</td>\n",
       "      <td>1321.143682</td>\n",
       "      <td>9713.392312</td>\n",
       "      <td>552.239946</td>\n",
       "      <td>0</td>\n",
       "      <td>0</td>\n",
       "      <td>0</td>\n",
       "      <td>1</td>\n",
       "      <td>0</td>\n",
       "      <td>0</td>\n",
       "      <td>240000.0</td>\n",
       "    </tr>\n",
       "    <tr>\n",
       "      <th>2</th>\n",
       "      <td>2018-01</td>\n",
       "      <td>1</td>\n",
       "      <td>0</td>\n",
       "      <td>68.0</td>\n",
       "      <td>1981</td>\n",
       "      <td>62.416667</td>\n",
       "      <td>1.376807</td>\n",
       "      <td>103.842018</td>\n",
       "      <td>640.152689</td>\n",
       "      <td>10391.930070</td>\n",
       "      <td>879.171242</td>\n",
       "      <td>0</td>\n",
       "      <td>0</td>\n",
       "      <td>0</td>\n",
       "      <td>1</td>\n",
       "      <td>0</td>\n",
       "      <td>0</td>\n",
       "      <td>240000.0</td>\n",
       "    </tr>\n",
       "  </tbody>\n",
       "</table>\n",
       "</div>"
      ],
      "text/plain": [
       "     month  flat_type  storey_range  floor_area_sqm  lease_commence_date  \\\n",
       "0  2018-01          0             3            44.0                 1978   \n",
       "1  2018-01          1             0            67.0                 1978   \n",
       "2  2018-01          1             0            68.0                 1981   \n",
       "\n",
       "   remaining_lease       lat        long  distanceWithMrt  \\\n",
       "0        61.333333  1.366227  103.850086       416.686149   \n",
       "1        60.583333  1.370097  103.837688      1321.143682   \n",
       "2        62.416667  1.376807  103.842018       640.152689   \n",
       "\n",
       "   distanceWithRaffles  distanceWithGdPri  model_Apartment  model_Maisonette  \\\n",
       "0          9162.186778        1396.420210                0                 0   \n",
       "1          9713.392312         552.239946                0                 0   \n",
       "2         10391.930070         879.171242                0                 0   \n",
       "\n",
       "   model_Model A  model_New Generation  model_Special  model_Standard  \\\n",
       "0              0                     0              0               1   \n",
       "1              0                     1              0               0   \n",
       "2              0                     1              0               0   \n",
       "\n",
       "   resale_price  \n",
       "0      250000.0  \n",
       "1      240000.0  \n",
       "2      240000.0  "
      ]
     },
     "execution_count": 130,
     "metadata": {},
     "output_type": "execute_result"
    }
   ],
   "source": [
    "df.head(3)"
   ]
  },
  {
   "cell_type": "code",
   "execution_count": 40,
   "metadata": {},
   "outputs": [],
   "source": [
    "from sklearn.preprocessing import StandardScaler\n",
    "scaler = StandardScaler()\n",
    "\n",
    "# fit to continuous columns and transform\n",
    "scaled_columns = ['resale_price']\n",
    "scaler.fit(df[scaled_columns])\n",
    "scaled_columns = pd.DataFrame(scaler.transform(df[scaled_columns]), index=df.index, columns=scaled_columns)\n",
    "\n",
    "# separate unscaled features\n",
    "unscaled_columns = df.drop(scaled_columns, axis=1)\n",
    "\n",
    "# concatenate scaled and unscaled features\n",
    "df = pd.concat([unscaled_columns,scaled_columns], axis=1)"
   ]
  },
  {
   "cell_type": "code",
   "execution_count": 41,
   "metadata": {},
   "outputs": [
    {
     "data": {
      "text/html": [
       "<div>\n",
       "<style scoped>\n",
       "    .dataframe tbody tr th:only-of-type {\n",
       "        vertical-align: middle;\n",
       "    }\n",
       "\n",
       "    .dataframe tbody tr th {\n",
       "        vertical-align: top;\n",
       "    }\n",
       "\n",
       "    .dataframe thead th {\n",
       "        text-align: right;\n",
       "    }\n",
       "</style>\n",
       "<table border=\"1\" class=\"dataframe\">\n",
       "  <thead>\n",
       "    <tr style=\"text-align: right;\">\n",
       "      <th></th>\n",
       "      <th>floor_area_sqm</th>\n",
       "      <th>lease_commence_date</th>\n",
       "      <th>remaining_lease</th>\n",
       "      <th>lat</th>\n",
       "      <th>long</th>\n",
       "      <th>distanceWithMrt</th>\n",
       "      <th>distanceWithRaffles</th>\n",
       "      <th>distanceWithGdPri</th>\n",
       "      <th>month</th>\n",
       "      <th>flat_type</th>\n",
       "      <th>storey_range</th>\n",
       "      <th>model_Apartment</th>\n",
       "      <th>model_Maisonette</th>\n",
       "      <th>model_Model A</th>\n",
       "      <th>model_New Generation</th>\n",
       "      <th>model_Special</th>\n",
       "      <th>model_Standard</th>\n",
       "      <th>resale_price</th>\n",
       "    </tr>\n",
       "  </thead>\n",
       "  <tbody>\n",
       "    <tr>\n",
       "      <th>0</th>\n",
       "      <td>-2.201704</td>\n",
       "      <td>-1.263416</td>\n",
       "      <td>-1.066514</td>\n",
       "      <td>-0.055</td>\n",
       "      <td>0.158348</td>\n",
       "      <td>-0.83076</td>\n",
       "      <td>-0.765374</td>\n",
       "      <td>0.713007</td>\n",
       "      <td>2018-01</td>\n",
       "      <td>0</td>\n",
       "      <td>3</td>\n",
       "      <td>0</td>\n",
       "      <td>0</td>\n",
       "      <td>0</td>\n",
       "      <td>0</td>\n",
       "      <td>0</td>\n",
       "      <td>1</td>\n",
       "      <td>-1.209996</td>\n",
       "    </tr>\n",
       "  </tbody>\n",
       "</table>\n",
       "</div>"
      ],
      "text/plain": [
       "   floor_area_sqm  lease_commence_date  remaining_lease    lat      long  \\\n",
       "0       -2.201704            -1.263416        -1.066514 -0.055  0.158348   \n",
       "\n",
       "   distanceWithMrt  distanceWithRaffles  distanceWithGdPri    month  \\\n",
       "0         -0.83076            -0.765374           0.713007  2018-01   \n",
       "\n",
       "   flat_type  storey_range  model_Apartment  model_Maisonette  model_Model A  \\\n",
       "0          0             3                0                 0              0   \n",
       "\n",
       "   model_New Generation  model_Special  model_Standard  resale_price  \n",
       "0                     0              0               1     -1.209996  "
      ]
     },
     "execution_count": 41,
     "metadata": {},
     "output_type": "execute_result"
    }
   ],
   "source": [
    "df.head(1)"
   ]
  },
  {
   "cell_type": "code",
   "execution_count": 42,
   "metadata": {},
   "outputs": [],
   "source": [
    "train_start_date = '2018-01'\n",
    "test_start_date = '2020-01'\n",
    "\n",
    "train = df[df['month'] < test_start_date]\n",
    "test = df[df['month'] >= test_start_date]"
   ]
  },
  {
   "cell_type": "code",
   "execution_count": 43,
   "metadata": {},
   "outputs": [],
   "source": [
    "train = train.drop('month', axis= 1)\n",
    "test = test.drop('month', axis= 1)"
   ]
  },
  {
   "cell_type": "code",
   "execution_count": 44,
   "metadata": {},
   "outputs": [],
   "source": [
    "train_data = train.values\n",
    "X = train_data[:, :-1]\n",
    "Y = train_data[:, -1].reshape(train_data.shape[0], 1)"
   ]
  },
  {
   "cell_type": "code",
   "execution_count": 45,
   "metadata": {},
   "outputs": [],
   "source": [
    "test_data = test.values\n",
    "X_test = test_data[:, :-1]\n",
    "Y_test = test_data[:, -1].reshape(test_data.shape[0], 1)"
   ]
  },
  {
   "cell_type": "code",
   "execution_count": 46,
   "metadata": {},
   "outputs": [],
   "source": [
    "X = np.vstack((np.ones((X.shape[0], )), X.T)).T\n",
    "X_test = np.vstack((np.ones((X_test.shape[0], )), X_test.T)).T"
   ]
  },
  {
   "cell_type": "code",
   "execution_count": 47,
   "metadata": {},
   "outputs": [
    {
     "name": "stdout",
     "output_type": "stream",
     "text": [
      "Shape of X_train: (43698, 17)\n",
      "Shape of Y_train: (43698, 1)\n",
      "Shape of X_test: (13629, 17)\n",
      "Shape of Y_test: (13629, 1)\n"
     ]
    }
   ],
   "source": [
    "print('Shape of X_train:', X.shape)\n",
    "print('Shape of Y_train:', Y.shape)\n",
    "print('Shape of X_test:', X_test.shape)\n",
    "print('Shape of Y_test:', Y_test.shape)"
   ]
  },
  {
   "cell_type": "code",
   "execution_count": 15,
   "metadata": {},
   "outputs": [
    {
     "data": {
      "text/html": [
       "<div>\n",
       "<style scoped>\n",
       "    .dataframe tbody tr th:only-of-type {\n",
       "        vertical-align: middle;\n",
       "    }\n",
       "\n",
       "    .dataframe tbody tr th {\n",
       "        vertical-align: top;\n",
       "    }\n",
       "\n",
       "    .dataframe thead th {\n",
       "        text-align: right;\n",
       "    }\n",
       "</style>\n",
       "<table border=\"1\" class=\"dataframe\">\n",
       "  <thead>\n",
       "    <tr style=\"text-align: right;\">\n",
       "      <th></th>\n",
       "      <th>resale_price</th>\n",
       "      <th>floor_area_sqm</th>\n",
       "      <th>lease_commence_date</th>\n",
       "      <th>remaining_lease</th>\n",
       "      <th>lat</th>\n",
       "      <th>long</th>\n",
       "      <th>distanceWithMrt</th>\n",
       "      <th>distanceWithRaffles</th>\n",
       "      <th>distanceWithGdPri</th>\n",
       "      <th>month</th>\n",
       "      <th>flat_type</th>\n",
       "      <th>storey_range</th>\n",
       "      <th>model_Apartment</th>\n",
       "      <th>model_Maisonette</th>\n",
       "      <th>model_Model A</th>\n",
       "      <th>model_New Generation</th>\n",
       "      <th>model_Special</th>\n",
       "      <th>model_Standard</th>\n",
       "    </tr>\n",
       "  </thead>\n",
       "  <tbody>\n",
       "    <tr>\n",
       "      <th>0</th>\n",
       "      <td>-1.209996</td>\n",
       "      <td>-2.201704</td>\n",
       "      <td>-1.263416</td>\n",
       "      <td>-1.066514</td>\n",
       "      <td>-0.055</td>\n",
       "      <td>0.158348</td>\n",
       "      <td>-0.83076</td>\n",
       "      <td>-0.765374</td>\n",
       "      <td>0.713007</td>\n",
       "      <td>2018-01</td>\n",
       "      <td>0</td>\n",
       "      <td>3</td>\n",
       "      <td>0</td>\n",
       "      <td>0</td>\n",
       "      <td>0</td>\n",
       "      <td>0</td>\n",
       "      <td>0</td>\n",
       "      <td>1</td>\n",
       "    </tr>\n",
       "  </tbody>\n",
       "</table>\n",
       "</div>"
      ],
      "text/plain": [
       "   resale_price  floor_area_sqm  lease_commence_date  remaining_lease    lat  \\\n",
       "0     -1.209996       -2.201704            -1.263416        -1.066514 -0.055   \n",
       "\n",
       "       long  distanceWithMrt  distanceWithRaffles  distanceWithGdPri    month  \\\n",
       "0  0.158348         -0.83076            -0.765374           0.713007  2018-01   \n",
       "\n",
       "   flat_type  storey_range  model_Apartment  model_Maisonette  model_Model A  \\\n",
       "0          0             3                0                 0              0   \n",
       "\n",
       "   model_New Generation  model_Special  model_Standard  \n",
       "0                     0              0               1  "
      ]
     },
     "execution_count": 15,
     "metadata": {},
     "output_type": "execute_result"
    }
   ],
   "source": [
    "df.head(1)"
   ]
  },
  {
   "cell_type": "code",
   "execution_count": 48,
   "metadata": {},
   "outputs": [
    {
     "name": "stdout",
     "output_type": "stream",
     "text": [
      "Model Coefficients: [[ 0.          0.60173597  0.35185737 -0.00446413 -0.11550091  0.01208708\n",
      "  -0.16294506 -0.42195934 -0.00912052  0.08892487  0.0942743  -0.24272846\n",
      "   0.12815203 -0.22400802 -0.14767319  0.74846542 -0.26220777]]\n",
      "Intercept: [-0.20119809]\n",
      "Mean Squared Error (MSE): 0.14158451258381716\n",
      "R-squared (R2): 0.851083635351218\n"
     ]
    }
   ],
   "source": [
    "from sklearn.linear_model import LinearRegression\n",
    "from sklearn.metrics import mean_squared_error, r2_score\n",
    "import numpy as np\n",
    "\n",
    "# Assuming you have your data in X_train, Y_train, X_test, and Y_test\n",
    "\n",
    "# Create a Linear Regression model\n",
    "model = LinearRegression()\n",
    "\n",
    "# Fit the model to the training data\n",
    "model.fit(X, Y)\n",
    "\n",
    "# Make predictions on the test data\n",
    "Y_pred = model.predict(X_test)\n",
    "\n",
    "# Calculate model performance metrics\n",
    "mse = mean_squared_error(Y_test, Y_pred)\n",
    "r2 = r2_score(Y_test, Y_pred)\n",
    "\n",
    "# Print the model coefficients and performance metrics\n",
    "print('Model Coefficients:', model.coef_)\n",
    "print('Intercept:', model.intercept_)\n",
    "print('Mean Squared Error (MSE):', mse)\n",
    "print('R-squared (R2):', r2)"
   ]
  },
  {
   "cell_type": "code",
   "execution_count": 63,
   "metadata": {},
   "outputs": [
    {
     "name": "stdout",
     "output_type": "stream",
     "text": [
      "Mean Squared Error: 6.3654973130986185\n",
      "Mean Absolute Error: 1.591530945443895\n"
     ]
    }
   ],
   "source": [
    "from sklearn.metrics import mean_squared_error, mean_absolute_error\n",
    "\n",
    "# Assuming you have your test data as X_test and y_test\n",
    "predicted_log_y = model.predict(X_test)\n",
    "predicted_y = np.exp(predicted_log_y)  # Convert back from log scale to original scale\n",
    "\n",
    "mse = mean_squared_error(Y_test, predicted_y)\n",
    "mae = mean_absolute_error(Y_test, predicted_y)\n",
    "\n",
    "print(f'Mean Squared Error: {mse}')\n",
    "print(f'Mean Absolute Error: {mae}')"
   ]
  },
  {
   "cell_type": "code",
   "execution_count": 50,
   "metadata": {},
   "outputs": [
    {
     "name": "stdout",
     "output_type": "stream",
     "text": [
      "Mean squared error is: 6.3654973130986185\n",
      "Mean absolute error is: 1.591530945443895\n"
     ]
    }
   ],
   "source": [
    "predict_log_y = model.predict(X_test)\n",
    "predict_y = np.exp(predicted_log_y)\n",
    "mse = mean_squared_error(Y_test, predicted_y)\n",
    "mae = mean_absolute_error(Y_test, predicted_y)\n",
    "print('Mean squared error is:', mse)\n",
    "print('Mean absolute error is:', mae)"
   ]
  },
  {
   "cell_type": "code",
   "execution_count": 51,
   "metadata": {},
   "outputs": [
    {
     "data": {
      "text/plain": [
       "array([[-1.20999584],\n",
       "       [-1.27479563],\n",
       "       [-1.27479563],\n",
       "       ...,\n",
       "       [ 1.27183617],\n",
       "       [ 2.28198716],\n",
       "       [ 1.17463649]])"
      ]
     },
     "execution_count": 51,
     "metadata": {},
     "output_type": "execute_result"
    }
   ],
   "source": [
    "Y"
   ]
  },
  {
   "cell_type": "code",
   "execution_count": 52,
   "metadata": {},
   "outputs": [],
   "source": [
    "def model_ln(X, Y, learning_rate, iteration):\n",
    "    m = Y.size\n",
    "    theta = np.zeros((X.shape[1], 1))\n",
    "    cost_list = []\n",
    "    for i in range(iteration):\n",
    "        y_pred = np.dot(X, theta)\n",
    "        cost = (1/(2*m))*np.sum(np.square(y_pred - Y))\n",
    "        d_theta = (1/m) * np.dot(X.T, y_pred - Y)\n",
    "        theta = theta - learning_rate*d_theta\n",
    "        cost_list.append(cost)\n",
    "            \n",
    "        if (i%(iteration/10) == 0):\n",
    "            print('Cost is:', cost)\n",
    "    return theta, cost_list"
   ]
  },
  {
   "cell_type": "code",
   "execution_count": 150,
   "metadata": {},
   "outputs": [
    {
     "name": "stdout",
     "output_type": "stream",
     "text": [
      "Columns with non-numeric data:\n",
      "Index([], dtype='object')\n"
     ]
    }
   ],
   "source": [
    "non_numeric_columns = train.select_dtypes(exclude=['int64', 'float64']).columns\n",
    "\n",
    "print(\"Columns with non-numeric data:\")\n",
    "print(non_numeric_columns)"
   ]
  },
  {
   "cell_type": "code",
   "execution_count": 53,
   "metadata": {},
   "outputs": [
    {
     "name": "stdout",
     "output_type": "stream",
     "text": [
      "Cost is: 0.5076748454531874\n",
      "Cost is: 0.5076668593019015\n",
      "Cost is: 0.5076588737410788\n",
      "Cost is: 0.507650888770647\n",
      "Cost is: 0.5076429043905338\n",
      "Cost is: 0.5076349206006668\n",
      "Cost is: 0.507626937400974\n",
      "Cost is: 0.5076189547913824\n",
      "Cost is: 0.5076109727718204\n",
      "Cost is: 0.5076029913422155\n",
      "[[-7.27578801e-08]\n",
      " [ 3.17493965e-05]\n",
      " [ 1.55116761e-05]\n",
      " [-4.60429031e-07]\n",
      " [-1.34896062e-05]\n",
      " [ 6.67622290e-06]\n",
      " [-8.23416807e-06]\n",
      " [-1.63011623e-05]\n",
      " [-2.30737439e-07]\n",
      " [ 2.96433113e-05]\n",
      " [ 3.53021953e-05]\n",
      " [ 2.92646434e-06]\n",
      " [ 2.50514787e-06]\n",
      " [-3.45431145e-06]\n",
      " [-5.03868259e-06]\n",
      " [ 2.25998234e-06]\n",
      " [ 7.28641608e-07]]\n"
     ]
    }
   ],
   "source": [
    "iteration = 10000\n",
    "learning_rate = 0.000000005\n",
    "theta, cost_list=  model_ln(X, Y, learning_rate = learning_rate, iteration=iteration)\n",
    "print(theta)"
   ]
  },
  {
   "cell_type": "code",
   "execution_count": null,
   "metadata": {},
   "outputs": [],
   "source": [
    "# X_train = train_data.drop('resale_price', inplace=True)\n",
    "# y_train = train_data['resale_price']\n",
    "\n",
    "# X_test = test_data.drop('resale_price', inplace=True)\n",
    "# y_train = test_data['resale_price']"
   ]
  },
  {
   "cell_type": "code",
   "execution_count": 60,
   "metadata": {},
   "outputs": [],
   "source": [
    "y_pred= np.dot(X_test, theta)\n",
    "error = (1/X_test.shape[0])*np.sum(np.abs(y_pred - Y_test))\n"
   ]
  },
  {
   "cell_type": "code",
   "execution_count": 61,
   "metadata": {},
   "outputs": [
    {
     "data": {
      "text/plain": [
       "0.7525022916429183"
      ]
     },
     "execution_count": 61,
     "metadata": {},
     "output_type": "execute_result"
    }
   ],
   "source": [
    "error"
   ]
  },
  {
   "cell_type": "code",
   "execution_count": 62,
   "metadata": {},
   "outputs": [
    {
     "data": {
      "image/png": "[encoded data removed]",
      "text/plain": [
       "<Figure size 640x480 with 1 Axes>"
      ]
     },
     "metadata": {},
     "output_type": "display_data"
    }
   ],
   "source": [
    "rng = np.arange(0, iteration)\n",
    "plt.plot(rng, cost_list)\n",
    "plt.show()"
   ]
  },
  {
   "cell_type": "code",
   "execution_count": 59,
   "metadata": {},
   "outputs": [
    {
     "name": "stdout",
     "output_type": "stream",
     "text": [
      "75.25 %\n",
      "24.75 %\n"
     ]
    }
   ],
   "source": [
    "print(round(error, 4)*100, '%')\n",
    "print(round(1 - error, 4)*100, '%')"
   ]
  }
 ],
 "metadata": {
  "kernelspec": {
   "display_name": "Python 3",
   "language": "python",
   "name": "python3"
  },
  "language_info": {
   "codemirror_mode": {
    "name": "ipython",
    "version": 3
   },
   "file_extension": ".py",
   "mimetype": "text/x-python",
   "name": "python",
   "nbconvert_exporter": "python",
   "pygments_lexer": "ipython3",
   "version": "3.10.9"
  }
 },
 "nbformat": 4,
 "nbformat_minor": 2
}
