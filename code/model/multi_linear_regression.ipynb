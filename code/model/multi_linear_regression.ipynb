{
 "cells": [
  {
   "cell_type": "code",
   "execution_count": 2,
   "metadata": {},
   "outputs": [],
   "source": [
    "import pandas as pd\n",
    "import numpy as np\n",
    "import matplotlib.pyplot as plt"
   ]
  },
  {
   "cell_type": "code",
   "execution_count": 99,
   "metadata": {},
   "outputs": [
    {
     "data": {
      "text/html": [
       "<div>\n",
       "<style scoped>\n",
       "    .dataframe tbody tr th:only-of-type {\n",
       "        vertical-align: middle;\n",
       "    }\n",
       "\n",
       "    .dataframe tbody tr th {\n",
       "        vertical-align: top;\n",
       "    }\n",
       "\n",
       "    .dataframe thead th {\n",
       "        text-align: right;\n",
       "    }\n",
       "</style>\n",
       "<table border=\"1\" class=\"dataframe\">\n",
       "  <thead>\n",
       "    <tr style=\"text-align: right;\">\n",
       "      <th></th>\n",
       "      <th>month</th>\n",
       "      <th>flat_type</th>\n",
       "      <th>storey_range</th>\n",
       "      <th>resale_price</th>\n",
       "      <th>model_Apartment</th>\n",
       "      <th>model_Maisonette</th>\n",
       "      <th>model_New Generation</th>\n",
       "      <th>model_Special</th>\n",
       "      <th>model_Standard</th>\n",
       "      <th>floor_area_sqm</th>\n",
       "      <th>lease_commence_date</th>\n",
       "      <th>lat</th>\n",
       "      <th>long</th>\n",
       "      <th>distanceWithMrt</th>\n",
       "      <th>distanceWithRaffles</th>\n",
       "      <th>distanceWithGdPri</th>\n",
       "    </tr>\n",
       "  </thead>\n",
       "  <tbody>\n",
       "    <tr>\n",
       "      <th>0</th>\n",
       "      <td>2018-01</td>\n",
       "      <td>0</td>\n",
       "      <td>3</td>\n",
       "      <td>12.429216</td>\n",
       "      <td>0</td>\n",
       "      <td>0</td>\n",
       "      <td>0</td>\n",
       "      <td>0</td>\n",
       "      <td>1</td>\n",
       "      <td>-2.190579</td>\n",
       "      <td>-1.237792</td>\n",
       "      <td>-0.115848</td>\n",
       "      <td>0.157471</td>\n",
       "      <td>-0.860465</td>\n",
       "      <td>-0.872183</td>\n",
       "      <td>0.730986</td>\n",
       "    </tr>\n",
       "  </tbody>\n",
       "</table>\n",
       "</div>"
      ],
      "text/plain": [
       "     month  flat_type  storey_range  resale_price  model_Apartment  \\\n",
       "0  2018-01          0             3     12.429216                0   \n",
       "\n",
       "   model_Maisonette  model_New Generation  model_Special  model_Standard  \\\n",
       "0                 0                     0              0               1   \n",
       "\n",
       "   floor_area_sqm  lease_commence_date       lat      long  distanceWithMrt  \\\n",
       "0       -2.190579            -1.237792 -0.115848  0.157471        -0.860465   \n",
       "\n",
       "   distanceWithRaffles  distanceWithGdPri  \n",
       "0            -0.872183           0.730986  "
      ]
     },
     "execution_count": 99,
     "metadata": {},
     "output_type": "execute_result"
    }
   ],
   "source": [
    "data = pd.read_csv('E:\\\\singapore\\\\data\\\\tested_data.csv')\n",
    "data = data.drop(columns=['Unnamed: 0'], axis=1)\n",
    "data_copy = data.copy()\n",
    "data.head(1)"
   ]
  },
  {
   "cell_type": "code",
   "execution_count": 31,
   "metadata": {},
   "outputs": [
    {
     "data": {
      "text/plain": [
       "(54296, 16)"
      ]
     },
     "execution_count": 31,
     "metadata": {},
     "output_type": "execute_result"
    }
   ],
   "source": [
    "data.shape"
   ]
  },
  {
   "cell_type": "code",
   "execution_count": 102,
   "metadata": {},
   "outputs": [],
   "source": [
    "resale_price_column = data.pop('resale_price')\n",
    "data['resale_price'] = resale_price_column"
   ]
  },
  {
   "cell_type": "code",
   "execution_count": 103,
   "metadata": {},
   "outputs": [
    {
     "data": {
      "text/html": [
       "<div>\n",
       "<style scoped>\n",
       "    .dataframe tbody tr th:only-of-type {\n",
       "        vertical-align: middle;\n",
       "    }\n",
       "\n",
       "    .dataframe tbody tr th {\n",
       "        vertical-align: top;\n",
       "    }\n",
       "\n",
       "    .dataframe thead th {\n",
       "        text-align: right;\n",
       "    }\n",
       "</style>\n",
       "<table border=\"1\" class=\"dataframe\">\n",
       "  <thead>\n",
       "    <tr style=\"text-align: right;\">\n",
       "      <th></th>\n",
       "      <th>month</th>\n",
       "      <th>flat_type</th>\n",
       "      <th>storey_range</th>\n",
       "      <th>model_Apartment</th>\n",
       "      <th>model_Maisonette</th>\n",
       "      <th>model_New Generation</th>\n",
       "      <th>model_Special</th>\n",
       "      <th>model_Standard</th>\n",
       "      <th>floor_area_sqm</th>\n",
       "      <th>lease_commence_date</th>\n",
       "      <th>lat</th>\n",
       "      <th>long</th>\n",
       "      <th>distanceWithMrt</th>\n",
       "      <th>distanceWithRaffles</th>\n",
       "      <th>distanceWithGdPri</th>\n",
       "      <th>resale_price</th>\n",
       "    </tr>\n",
       "  </thead>\n",
       "  <tbody>\n",
       "    <tr>\n",
       "      <th>0</th>\n",
       "      <td>2018-01</td>\n",
       "      <td>0</td>\n",
       "      <td>3</td>\n",
       "      <td>0</td>\n",
       "      <td>0</td>\n",
       "      <td>0</td>\n",
       "      <td>0</td>\n",
       "      <td>1</td>\n",
       "      <td>-2.190579</td>\n",
       "      <td>-1.237792</td>\n",
       "      <td>-0.115848</td>\n",
       "      <td>0.157471</td>\n",
       "      <td>-0.860465</td>\n",
       "      <td>-0.872183</td>\n",
       "      <td>0.730986</td>\n",
       "      <td>12.429216</td>\n",
       "    </tr>\n",
       "  </tbody>\n",
       "</table>\n",
       "</div>"
      ],
      "text/plain": [
       "     month  flat_type  storey_range  model_Apartment  model_Maisonette  \\\n",
       "0  2018-01          0             3                0                 0   \n",
       "\n",
       "   model_New Generation  model_Special  model_Standard  floor_area_sqm  \\\n",
       "0                     0              0               1       -2.190579   \n",
       "\n",
       "   lease_commence_date       lat      long  distanceWithMrt  \\\n",
       "0            -1.237792 -0.115848  0.157471        -0.860465   \n",
       "\n",
       "   distanceWithRaffles  distanceWithGdPri  resale_price  \n",
       "0            -0.872183           0.730986     12.429216  "
      ]
     },
     "execution_count": 103,
     "metadata": {},
     "output_type": "execute_result"
    }
   ],
   "source": [
    "data.head(1)"
   ]
  },
  {
   "cell_type": "code",
   "execution_count": 32,
   "metadata": {},
   "outputs": [],
   "source": [
    "# np.random.seed(42)\n",
    "\n",
    "# # Shuffle the indices to create a random order\n",
    "# indices = np.random.permutation(len(data))\n",
    "# train_percentage = 0.8\n",
    "# train_size = int(len(data) * train_percentage)\n",
    "\n",
    "# # Split the data into training and testing sets\n",
    "# train = data.iloc[indices[:train_size]]\n",
    "# test = data.iloc[indices[train_size:]]"
   ]
  },
  {
   "cell_type": "code",
   "execution_count": 104,
   "metadata": {},
   "outputs": [],
   "source": [
    "train_start_date = '2018-01'\n",
    "test_start_date = '2020-01'\n",
    "\n",
    "train = data[data['month'] < test_start_date]\n",
    "test = data[data['month'] >= test_start_date]"
   ]
  },
  {
   "cell_type": "code",
   "execution_count": 101,
   "metadata": {},
   "outputs": [
    {
     "data": {
      "text/html": [
       "<div>\n",
       "<style scoped>\n",
       "    .dataframe tbody tr th:only-of-type {\n",
       "        vertical-align: middle;\n",
       "    }\n",
       "\n",
       "    .dataframe tbody tr th {\n",
       "        vertical-align: top;\n",
       "    }\n",
       "\n",
       "    .dataframe thead th {\n",
       "        text-align: right;\n",
       "    }\n",
       "</style>\n",
       "<table border=\"1\" class=\"dataframe\">\n",
       "  <thead>\n",
       "    <tr style=\"text-align: right;\">\n",
       "      <th></th>\n",
       "      <th>month</th>\n",
       "      <th>flat_type</th>\n",
       "      <th>storey_range</th>\n",
       "      <th>resale_price</th>\n",
       "      <th>model_Apartment</th>\n",
       "      <th>model_Maisonette</th>\n",
       "      <th>model_New Generation</th>\n",
       "      <th>model_Special</th>\n",
       "      <th>model_Standard</th>\n",
       "      <th>floor_area_sqm</th>\n",
       "      <th>lease_commence_date</th>\n",
       "      <th>lat</th>\n",
       "      <th>long</th>\n",
       "      <th>distanceWithMrt</th>\n",
       "      <th>distanceWithRaffles</th>\n",
       "      <th>distanceWithGdPri</th>\n",
       "    </tr>\n",
       "  </thead>\n",
       "  <tbody>\n",
       "    <tr>\n",
       "      <th>0</th>\n",
       "      <td>2018-01</td>\n",
       "      <td>0</td>\n",
       "      <td>3</td>\n",
       "      <td>12.429216</td>\n",
       "      <td>0</td>\n",
       "      <td>0</td>\n",
       "      <td>0</td>\n",
       "      <td>0</td>\n",
       "      <td>1</td>\n",
       "      <td>-2.190579</td>\n",
       "      <td>-1.237792</td>\n",
       "      <td>-0.115848</td>\n",
       "      <td>0.157471</td>\n",
       "      <td>-0.860465</td>\n",
       "      <td>-0.872183</td>\n",
       "      <td>0.730986</td>\n",
       "    </tr>\n",
       "  </tbody>\n",
       "</table>\n",
       "</div>"
      ],
      "text/plain": [
       "     month  flat_type  storey_range  resale_price  model_Apartment  \\\n",
       "0  2018-01          0             3     12.429216                0   \n",
       "\n",
       "   model_Maisonette  model_New Generation  model_Special  model_Standard  \\\n",
       "0                 0                     0              0               1   \n",
       "\n",
       "   floor_area_sqm  lease_commence_date       lat      long  distanceWithMrt  \\\n",
       "0       -2.190579            -1.237792 -0.115848  0.157471        -0.860465   \n",
       "\n",
       "   distanceWithRaffles  distanceWithGdPri  \n",
       "0            -0.872183           0.730986  "
      ]
     },
     "execution_count": 101,
     "metadata": {},
     "output_type": "execute_result"
    }
   ],
   "source": [
    "train.head(1)"
   ]
  },
  {
   "cell_type": "code",
   "execution_count": 105,
   "metadata": {},
   "outputs": [],
   "source": [
    "train = train.drop(columns=['month'], axis= 1)\n",
    "test = test.drop('month', axis= 1)"
   ]
  },
  {
   "cell_type": "code",
   "execution_count": 109,
   "metadata": {},
   "outputs": [
    {
     "data": {
      "text/html": [
       "<div>\n",
       "<style scoped>\n",
       "    .dataframe tbody tr th:only-of-type {\n",
       "        vertical-align: middle;\n",
       "    }\n",
       "\n",
       "    .dataframe tbody tr th {\n",
       "        vertical-align: top;\n",
       "    }\n",
       "\n",
       "    .dataframe thead th {\n",
       "        text-align: right;\n",
       "    }\n",
       "</style>\n",
       "<table border=\"1\" class=\"dataframe\">\n",
       "  <thead>\n",
       "    <tr style=\"text-align: right;\">\n",
       "      <th></th>\n",
       "      <th>flat_type</th>\n",
       "      <th>storey_range</th>\n",
       "      <th>model_Apartment</th>\n",
       "      <th>model_Maisonette</th>\n",
       "      <th>model_New Generation</th>\n",
       "      <th>model_Special</th>\n",
       "      <th>model_Standard</th>\n",
       "      <th>floor_area_sqm</th>\n",
       "      <th>lease_commence_date</th>\n",
       "      <th>lat</th>\n",
       "      <th>long</th>\n",
       "      <th>distanceWithMrt</th>\n",
       "      <th>distanceWithRaffles</th>\n",
       "      <th>distanceWithGdPri</th>\n",
       "      <th>resale_price</th>\n",
       "    </tr>\n",
       "  </thead>\n",
       "  <tbody>\n",
       "    <tr>\n",
       "      <th>41283</th>\n",
       "      <td>1</td>\n",
       "      <td>1</td>\n",
       "      <td>0</td>\n",
       "      <td>0</td>\n",
       "      <td>1</td>\n",
       "      <td>0</td>\n",
       "      <td>0</td>\n",
       "      <td>-0.977845</td>\n",
       "      <td>-1.390761</td>\n",
       "      <td>-0.134398</td>\n",
       "      <td>0.05602</td>\n",
       "      <td>0.232615</td>\n",
       "      <td>-0.880719</td>\n",
       "      <td>0.401558</td>\n",
       "      <td>12.487485</td>\n",
       "    </tr>\n",
       "  </tbody>\n",
       "</table>\n",
       "</div>"
      ],
      "text/plain": [
       "       flat_type  storey_range  model_Apartment  model_Maisonette  \\\n",
       "41283          1             1                0                 0   \n",
       "\n",
       "       model_New Generation  model_Special  model_Standard  floor_area_sqm  \\\n",
       "41283                     1              0               0       -0.977845   \n",
       "\n",
       "       lease_commence_date       lat     long  distanceWithMrt  \\\n",
       "41283            -1.390761 -0.134398  0.05602         0.232615   \n",
       "\n",
       "       distanceWithRaffles  distanceWithGdPri  resale_price  \n",
       "41283            -0.880719           0.401558     12.487485  "
      ]
     },
     "execution_count": 109,
     "metadata": {},
     "output_type": "execute_result"
    }
   ],
   "source": [
    "test.head(1)"
   ]
  },
  {
   "cell_type": "code",
   "execution_count": 110,
   "metadata": {},
   "outputs": [],
   "source": [
    "train_data = train.values\n",
    "X = train_data[:, :-1]\n",
    "Y = train_data[:, -1].reshape(train_data.shape[0], 1)"
   ]
  },
  {
   "cell_type": "code",
   "execution_count": 111,
   "metadata": {},
   "outputs": [],
   "source": [
    "test_data = test.values\n",
    "X_test = test_data[:, :-1]\n",
    "Y_test = test_data[:, -1].reshape(test_data.shape[0], 1)"
   ]
  },
  {
   "cell_type": "code",
   "execution_count": 112,
   "metadata": {},
   "outputs": [],
   "source": [
    "X = np.vstack((np.ones((X.shape[0], )), X.T)).T\n",
    "X_test = np.vstack((np.ones((X_test.shape[0], )), X_test.T)).T"
   ]
  },
  {
   "cell_type": "code",
   "execution_count": 113,
   "metadata": {},
   "outputs": [
    {
     "name": "stdout",
     "output_type": "stream",
     "text": [
      "Shape of X_train: (41283, 15)\n",
      "Shape of Y_train: (41283, 1)\n",
      "Shape of X_test: (13013, 15)\n",
      "Shape of Y_test: (13013, 1)\n"
     ]
    }
   ],
   "source": [
    "print('Shape of X_train:', X.shape)\n",
    "print('Shape of Y_train:', Y.shape)\n",
    "print('Shape of X_test:', X_test.shape)\n",
    "print('Shape of Y_test:', Y_test.shape)"
   ]
  },
  {
   "cell_type": "code",
   "execution_count": 24,
   "metadata": {},
   "outputs": [
    {
     "name": "stdout",
     "output_type": "stream",
     "text": [
      "Model Coefficients: [[ 0.00000000e+00 -2.21772459e-01  3.71692719e-02 -5.04143796e-01\n",
      "  -1.88946191e-02 -1.94695073e-01  2.79525202e-01  4.72633200e-01\n",
      "   1.47955348e-01  3.42142463e-01 -9.67273630e-05  1.29717094e-01\n",
      "  -1.58800338e-01 -2.63261756e-02 -2.54253165e-01]]\n",
      "Intercept: [6.80359803]\n",
      "Mean Squared Error (MSE): 0.8932851366466545\n",
      "R-squared (R2): 0.03759126125428647\n"
     ]
    }
   ],
   "source": [
    "# from sklearn.linear_model import LinearRegression\n",
    "# from sklearn.metrics import mean_squared_error, r2_score\n",
    "# import numpy as np\n",
    "\n",
    "# # Assuming you have your data in X_train, Y_train, X_test, and Y_test\n",
    "\n",
    "# # Create a Linear Regression model\n",
    "# model = LinearRegression()\n",
    "\n",
    "# # Fit the model to the training data\n",
    "# model.fit(X, Y)\n",
    "\n",
    "# # Make predictions on the test data\n",
    "# Y_pred = model.predict(X_test)\n",
    "\n",
    "# # Calculate model performance metrics\n",
    "# mse = mean_squared_error(Y_test, Y_pred)\n",
    "# r2 = r2_score(Y_test, Y_pred)\n",
    "\n",
    "# # Print the model coefficients and performance metrics\n",
    "# print('Model Coefficients:', model.coef_)\n",
    "# print('Intercept:', model.intercept_)\n",
    "# print('Mean Squared Error (MSE):', mse)\n",
    "# print('R-squared (R2):', r2)"
   ]
  },
  {
   "cell_type": "code",
   "execution_count": 25,
   "metadata": {},
   "outputs": [
    {
     "name": "stdout",
     "output_type": "stream",
     "text": [
      "Mean Squared Error: 1.9140062296001505\n",
      "Mean Absolute Error: 1.2228459767287865\n"
     ]
    }
   ],
   "source": [
    "# from sklearn.metrics import mean_squared_error, mean_absolute_error\n",
    "\n",
    "# # Assuming you have your test data as X_test and y_test\n",
    "# predicted_log_y = model.predict(X_test)\n",
    "# predicted_y = np.exp(predicted_log_y)  # Convert back from log scale to original scale\n",
    "\n",
    "# mse = mean_squared_error(Y_test, predicted_y)\n",
    "# mae = mean_absolute_error(Y_test, predicted_y)\n",
    "\n",
    "# print(f'Mean Squared Error: {mse}')\n",
    "# print(f'Mean Absolute Error: {mae}')"
   ]
  },
  {
   "cell_type": "code",
   "execution_count": 26,
   "metadata": {},
   "outputs": [
    {
     "name": "stdout",
     "output_type": "stream",
     "text": [
      "Mean squared error is: 1.9140062296001505\n",
      "Mean absolute error is: 1.2228459767287865\n"
     ]
    }
   ],
   "source": [
    "# predict_log_y = model.predict(X_test)\n",
    "# predict_y = np.exp(predicted_log_y)\n",
    "# mse = mean_squared_error(Y_test, predicted_y)\n",
    "# mae = mean_absolute_error(Y_test, predicted_y)\n",
    "# print('Mean squared error is:', mse)\n",
    "# print('Mean absolute error is:', mae)"
   ]
  },
  {
   "cell_type": "code",
   "execution_count": 114,
   "metadata": {},
   "outputs": [],
   "source": [
    "def model_ln(X, Y, learning_rate, iteration):\n",
    "    m = Y.size\n",
    "    theta = np.zeros((X.shape[1], 1))\n",
    "    cost_list = []\n",
    "    for i in range(iteration):\n",
    "        y_pred = np.dot(X, theta)\n",
    "        cost = (1/(2*m))*np.sum(np.square(y_pred - Y))\n",
    "        d_theta = (1/m) * np.dot(X.T, y_pred - Y)\n",
    "        theta = theta - learning_rate*d_theta\n",
    "        cost_list.append(cost)\n",
    "            \n",
    "        if (i%(iteration/10) == 0):\n",
    "            print('Cost is:', cost)\n",
    "    return theta, cost_list"
   ]
  },
  {
   "cell_type": "code",
   "execution_count": 117,
   "metadata": {},
   "outputs": [
    {
     "name": "stdout",
     "output_type": "stream",
     "text": [
      "Cost is: 83.08767083054029\n",
      "Cost is: 0.6515728940185149\n",
      "Cost is: 0.5226843091876741\n",
      "Cost is: 0.45039127938146517\n",
      "Cost is: 0.3961201092657741\n",
      "Cost is: 0.3524905297566872\n",
      "Cost is: 0.3159074693356124\n",
      "Cost is: 0.2843904402077383\n",
      "Cost is: 0.2567660649323521\n",
      "Cost is: 0.23228958321154486\n",
      "[[ 7.39385954]\n",
      " [ 2.70320215]\n",
      " [ 0.05375846]\n",
      " [-0.60631131]\n",
      " [-0.34418126]\n",
      " [-0.16671761]\n",
      " [ 0.10741568]\n",
      " [-0.71258405]\n",
      " [-2.0382039 ]\n",
      " [-0.11945176]\n",
      " [-0.12548731]\n",
      " [ 0.07490744]\n",
      " [-0.04064641]\n",
      " [ 0.0254169 ]\n",
      " [ 0.02862439]]\n"
     ]
    }
   ],
   "source": [
    "iteration = 10000\n",
    "learning_rate = 0.005\n",
    "theta, cost_list=  model_ln(X, Y, learning_rate = learning_rate, iteration=iteration)\n",
    "print(theta)"
   ]
  },
  {
   "cell_type": "code",
   "execution_count": null,
   "metadata": {},
   "outputs": [],
   "source": [
    "# X_train = train_data.drop('resale_price', inplace=True)\n",
    "# y_train = train_data['resale_price']\n",
    "\n",
    "# X_test = test_data.drop('resale_price', inplace=True)\n",
    "# y_train = test_data['resale_price']"
   ]
  },
  {
   "cell_type": "code",
   "execution_count": 122,
   "metadata": {},
   "outputs": [],
   "source": [
    "y_pred= np.dot(X_test, theta)\n",
    "error = (1/X_test.shape[0])*np.sum(np.abs(y_pred - Y_test))\n"
   ]
  },
  {
   "cell_type": "code",
   "execution_count": 123,
   "metadata": {},
   "outputs": [
    {
     "data": {
      "text/plain": [
       "0.47951418592960804"
      ]
     },
     "execution_count": 123,
     "metadata": {},
     "output_type": "execute_result"
    }
   ],
   "source": [
    "error"
   ]
  },
  {
   "cell_type": "code",
   "execution_count": 124,
   "metadata": {},
   "outputs": [
    {
     "data": {
      "image/png": "[encoded data removed]",
      "text/plain": [
       "<Figure size 640x480 with 1 Axes>"
      ]
     },
     "metadata": {},
     "output_type": "display_data"
    }
   ],
   "source": [
    "rng = np.arange(0, iteration)\n",
    "plt.plot(rng, cost_list)\n",
    "plt.show()"
   ]
  },
  {
   "cell_type": "code",
   "execution_count": 125,
   "metadata": {},
   "outputs": [
    {
     "name": "stdout",
     "output_type": "stream",
     "text": [
      "47.949999999999996 %\n",
      "52.05 %\n"
     ]
    }
   ],
   "source": [
    "print(round(error, 4)*100, '%')\n",
    "print(round(1 - error, 4)*100, '%')"
   ]
  },
  {
   "cell_type": "code",
   "execution_count": 90,
   "metadata": {},
   "outputs": [
    {
     "data": {
      "text/plain": [
       "(13013, 15)"
      ]
     },
     "execution_count": 90,
     "metadata": {},
     "output_type": "execute_result"
    }
   ],
   "source": [
    "test.shape"
   ]
  },
  {
   "cell_type": "code",
   "execution_count": 88,
   "metadata": {},
   "outputs": [
    {
     "data": {
      "text/html": [
       "<div>\n",
       "<style scoped>\n",
       "    .dataframe tbody tr th:only-of-type {\n",
       "        vertical-align: middle;\n",
       "    }\n",
       "\n",
       "    .dataframe tbody tr th {\n",
       "        vertical-align: top;\n",
       "    }\n",
       "\n",
       "    .dataframe thead th {\n",
       "        text-align: right;\n",
       "    }\n",
       "</style>\n",
       "<table border=\"1\" class=\"dataframe\">\n",
       "  <thead>\n",
       "    <tr style=\"text-align: right;\">\n",
       "      <th></th>\n",
       "      <th>flat_type</th>\n",
       "      <th>storey_range</th>\n",
       "      <th>model_Apartment</th>\n",
       "      <th>model_Maisonette</th>\n",
       "      <th>model_New Generation</th>\n",
       "      <th>model_Special</th>\n",
       "      <th>model_Standard</th>\n",
       "      <th>floor_area_sqm</th>\n",
       "      <th>lease_commence_date</th>\n",
       "      <th>lat</th>\n",
       "      <th>long</th>\n",
       "      <th>distanceWithMrt</th>\n",
       "      <th>distanceWithRaffles</th>\n",
       "      <th>distanceWithGdPri</th>\n",
       "      <th>resale_price</th>\n",
       "    </tr>\n",
       "  </thead>\n",
       "  <tbody>\n",
       "    <tr>\n",
       "      <th>41283</th>\n",
       "      <td>1</td>\n",
       "      <td>1</td>\n",
       "      <td>0</td>\n",
       "      <td>0</td>\n",
       "      <td>1</td>\n",
       "      <td>0</td>\n",
       "      <td>0</td>\n",
       "      <td>-0.977845</td>\n",
       "      <td>-1.390761</td>\n",
       "      <td>-0.134398</td>\n",
       "      <td>0.05602</td>\n",
       "      <td>0.232615</td>\n",
       "      <td>-0.880719</td>\n",
       "      <td>0.401558</td>\n",
       "      <td>12.487485</td>\n",
       "    </tr>\n",
       "  </tbody>\n",
       "</table>\n",
       "</div>"
      ],
      "text/plain": [
       "       flat_type  storey_range  model_Apartment  model_Maisonette  \\\n",
       "41283          1             1                0                 0   \n",
       "\n",
       "       model_New Generation  model_Special  model_Standard  floor_area_sqm  \\\n",
       "41283                     1              0               0       -0.977845   \n",
       "\n",
       "       lease_commence_date       lat     long  distanceWithMrt  \\\n",
       "41283            -1.390761 -0.134398  0.05602         0.232615   \n",
       "\n",
       "       distanceWithRaffles  distanceWithGdPri  resale_price  \n",
       "41283            -0.880719           0.401558     12.487485  "
      ]
     },
     "execution_count": 88,
     "metadata": {},
     "output_type": "execute_result"
    }
   ],
   "source": [
    "test.head(1)"
   ]
  },
  {
   "cell_type": "code",
   "execution_count": 89,
   "metadata": {},
   "outputs": [
    {
     "ename": "ValueError",
     "evalue": "shapes (1,14) and (15,1) not aligned: 14 (dim 1) != 15 (dim 0)",
     "output_type": "error",
     "traceback": [
      "\u001b[1;31m---------------------------------------------------------------------------\u001b[0m",
      "\u001b[1;31mValueError\u001b[0m                                Traceback (most recent call last)",
      "\u001b[1;32me:\\singapore\\code\\model\\multi_linear_regression.ipynb Cell 26\u001b[0m line \u001b[0;36m7\n\u001b[0;32m      <a href='vscode-notebook-cell:/e%3A/singapore/code/model/multi_linear_regression.ipynb#X41sZmlsZQ%3D%3D?line=3'>4</a>\u001b[0m new_feature_values_reshaped \u001b[39m=\u001b[39m new_feature_values\u001b[39m.\u001b[39mreshape(\u001b[39m1\u001b[39m, \u001b[39m-\u001b[39m\u001b[39m1\u001b[39m)\n\u001b[0;32m      <a href='vscode-notebook-cell:/e%3A/singapore/code/model/multi_linear_regression.ipynb#X41sZmlsZQ%3D%3D?line=5'>6</a>\u001b[0m \u001b[39m# Make predictions using the trained model\u001b[39;00m\n\u001b[1;32m----> <a href='vscode-notebook-cell:/e%3A/singapore/code/model/multi_linear_regression.ipynb#X41sZmlsZQ%3D%3D?line=6'>7</a>\u001b[0m predicted_price \u001b[39m=\u001b[39m np\u001b[39m.\u001b[39;49mdot(new_feature_values_reshaped, theta)\n\u001b[0;32m      <a href='vscode-notebook-cell:/e%3A/singapore/code/model/multi_linear_regression.ipynb#X41sZmlsZQ%3D%3D?line=8'>9</a>\u001b[0m \u001b[39m# Print the predicted price\u001b[39;00m\n\u001b[0;32m     <a href='vscode-notebook-cell:/e%3A/singapore/code/model/multi_linear_regression.ipynb#X41sZmlsZQ%3D%3D?line=9'>10</a>\u001b[0m \u001b[39mprint\u001b[39m(\u001b[39m'\u001b[39m\u001b[39mPredicted Price:\u001b[39m\u001b[39m'\u001b[39m, predicted_price[\u001b[39m0\u001b[39m, \u001b[39m0\u001b[39m])\n",
      "\u001b[1;31mValueError\u001b[0m: shapes (1,14) and (15,1) not aligned: 14 (dim 1) != 15 (dim 0)"
     ]
    }
   ],
   "source": [
    "new_feature_values = np.array([1, 1, 0, 0, 1, 0, 0, -0.977845, -1.390761, -0.134398, 0.05602, 0.232615,\t-0.880719, 0.401558])\n",
    "\n",
    "# Reshape the input values to match the shape expected by the model\n",
    "new_feature_values_reshaped = new_feature_values.reshape(1, -1)\n",
    "\n",
    "# Make predictions using the trained model\n",
    "predicted_price = np.dot(new_feature_values_reshaped, theta)\n",
    "\n",
    "# Print the predicted price\n",
    "print('Predicted Price:', predicted_price[0, 0])"
   ]
  }
 ],
 "metadata": {
  "kernelspec": {
   "display_name": "Python 3",
   "language": "python",
   "name": "python3"
  },
  "language_info": {
   "codemirror_mode": {
    "name": "ipython",
    "version": 3
   },
   "file_extension": ".py",
   "mimetype": "text/x-python",
   "name": "python",
   "nbconvert_exporter": "python",
   "pygments_lexer": "ipython3",
   "version": "3.10.9"
  }
 },
 "nbformat": 4,
 "nbformat_minor": 2
}
